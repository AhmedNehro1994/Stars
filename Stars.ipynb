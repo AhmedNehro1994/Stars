{
 "cells": [
  {
   "cell_type": "markdown",
   "id": "409d6140",
   "metadata": {},
   "source": [
    "This is a dataset consisting of several features of stars\n",
    "\n"
   ]
  },
  {
   "cell_type": "markdown",
   "id": "45d3a74f",
   "metadata": {},
   "source": [
    "Absolute Temperature (in K)\n",
    "\n",
    "Relative Luminosity (L/Lo)\n",
    "\n",
    "Relative Radius (R/Ro)\n",
    "\n",
    "Absolute Magnitude (Mv)\n",
    "Star Color (white,Red,Blue,Yellow,yellow-orange etc)\n",
    "\n",
    "Spectral Class (O,B,A,F,G,K,,M)\n",
    "\n",
    "Star Type **(Red Dwarf, Brown Dwarf, White Dwarf, Main Sequence , SuperGiants, HyperGiants)**"
   ]
  },
  {
   "cell_type": "markdown",
   "id": "33f8f896",
   "metadata": {},
   "source": [
    " "
   ]
  },
  {
   "cell_type": "markdown",
   "id": "4a85ac43",
   "metadata": {},
   "source": [
    "Make a multiclass logistic regression to predict the star type"
   ]
  },
  {
   "cell_type": "code",
   "execution_count": 97,
   "id": "d9349676",
   "metadata": {},
   "outputs": [],
   "source": [
    "import pandas as pd\n",
    "import numpy as np\n",
    "import seaborn as sns"
   ]
  },
  {
   "cell_type": "code",
   "execution_count": 98,
   "id": "fd0ceebb",
   "metadata": {
    "scrolled": true
   },
   "outputs": [],
   "source": [
    "df = pd.read_csv(\"Stars.csv\")"
   ]
  },
  {
   "cell_type": "code",
   "execution_count": 99,
   "id": "ca89d43b",
   "metadata": {},
   "outputs": [
    {
     "data": {
      "text/html": [
       "<div>\n",
       "<style scoped>\n",
       "    .dataframe tbody tr th:only-of-type {\n",
       "        vertical-align: middle;\n",
       "    }\n",
       "\n",
       "    .dataframe tbody tr th {\n",
       "        vertical-align: top;\n",
       "    }\n",
       "\n",
       "    .dataframe thead th {\n",
       "        text-align: right;\n",
       "    }\n",
       "</style>\n",
       "<table border=\"1\" class=\"dataframe\">\n",
       "  <thead>\n",
       "    <tr style=\"text-align: right;\">\n",
       "      <th></th>\n",
       "      <th>Temperature</th>\n",
       "      <th>L</th>\n",
       "      <th>R</th>\n",
       "      <th>A_M</th>\n",
       "      <th>Color</th>\n",
       "      <th>Spectral_Class</th>\n",
       "      <th>Type</th>\n",
       "    </tr>\n",
       "  </thead>\n",
       "  <tbody>\n",
       "    <tr>\n",
       "      <th>0</th>\n",
       "      <td>3068</td>\n",
       "      <td>0.002400</td>\n",
       "      <td>0.1700</td>\n",
       "      <td>16.12</td>\n",
       "      <td>Red</td>\n",
       "      <td>M</td>\n",
       "      <td>Brown Dwarf</td>\n",
       "    </tr>\n",
       "    <tr>\n",
       "      <th>1</th>\n",
       "      <td>3042</td>\n",
       "      <td>0.000500</td>\n",
       "      <td>0.1542</td>\n",
       "      <td>16.60</td>\n",
       "      <td>Red</td>\n",
       "      <td>M</td>\n",
       "      <td>Brown Dwarf</td>\n",
       "    </tr>\n",
       "    <tr>\n",
       "      <th>2</th>\n",
       "      <td>2600</td>\n",
       "      <td>0.000300</td>\n",
       "      <td>0.1020</td>\n",
       "      <td>18.70</td>\n",
       "      <td>Red</td>\n",
       "      <td>M</td>\n",
       "      <td>Brown Dwarf</td>\n",
       "    </tr>\n",
       "    <tr>\n",
       "      <th>3</th>\n",
       "      <td>2800</td>\n",
       "      <td>0.000200</td>\n",
       "      <td>0.1600</td>\n",
       "      <td>16.65</td>\n",
       "      <td>Red</td>\n",
       "      <td>M</td>\n",
       "      <td>Brown Dwarf</td>\n",
       "    </tr>\n",
       "    <tr>\n",
       "      <th>4</th>\n",
       "      <td>1939</td>\n",
       "      <td>0.000138</td>\n",
       "      <td>0.1030</td>\n",
       "      <td>20.06</td>\n",
       "      <td>Red</td>\n",
       "      <td>M</td>\n",
       "      <td>Brown Dwarf</td>\n",
       "    </tr>\n",
       "    <tr>\n",
       "      <th>...</th>\n",
       "      <td>...</td>\n",
       "      <td>...</td>\n",
       "      <td>...</td>\n",
       "      <td>...</td>\n",
       "      <td>...</td>\n",
       "      <td>...</td>\n",
       "      <td>...</td>\n",
       "    </tr>\n",
       "    <tr>\n",
       "      <th>235</th>\n",
       "      <td>38940</td>\n",
       "      <td>374830.000000</td>\n",
       "      <td>1356.0000</td>\n",
       "      <td>-9.93</td>\n",
       "      <td>Blue</td>\n",
       "      <td>O</td>\n",
       "      <td>Hypergiant</td>\n",
       "    </tr>\n",
       "    <tr>\n",
       "      <th>236</th>\n",
       "      <td>30839</td>\n",
       "      <td>834042.000000</td>\n",
       "      <td>1194.0000</td>\n",
       "      <td>-10.63</td>\n",
       "      <td>Blue</td>\n",
       "      <td>O</td>\n",
       "      <td>Hypergiant</td>\n",
       "    </tr>\n",
       "    <tr>\n",
       "      <th>237</th>\n",
       "      <td>8829</td>\n",
       "      <td>537493.000000</td>\n",
       "      <td>1423.0000</td>\n",
       "      <td>-10.73</td>\n",
       "      <td>White</td>\n",
       "      <td>A</td>\n",
       "      <td>Hypergiant</td>\n",
       "    </tr>\n",
       "    <tr>\n",
       "      <th>238</th>\n",
       "      <td>9235</td>\n",
       "      <td>404940.000000</td>\n",
       "      <td>1112.0000</td>\n",
       "      <td>-11.23</td>\n",
       "      <td>White</td>\n",
       "      <td>A</td>\n",
       "      <td>Hypergiant</td>\n",
       "    </tr>\n",
       "    <tr>\n",
       "      <th>239</th>\n",
       "      <td>37882</td>\n",
       "      <td>294903.000000</td>\n",
       "      <td>1783.0000</td>\n",
       "      <td>-7.80</td>\n",
       "      <td>Blue</td>\n",
       "      <td>O</td>\n",
       "      <td>Hypergiant</td>\n",
       "    </tr>\n",
       "  </tbody>\n",
       "</table>\n",
       "<p>240 rows × 7 columns</p>\n",
       "</div>"
      ],
      "text/plain": [
       "     Temperature              L          R    A_M  Color Spectral_Class  \\\n",
       "0           3068       0.002400     0.1700  16.12    Red              M   \n",
       "1           3042       0.000500     0.1542  16.60    Red              M   \n",
       "2           2600       0.000300     0.1020  18.70    Red              M   \n",
       "3           2800       0.000200     0.1600  16.65    Red              M   \n",
       "4           1939       0.000138     0.1030  20.06    Red              M   \n",
       "..           ...            ...        ...    ...    ...            ...   \n",
       "235        38940  374830.000000  1356.0000  -9.93   Blue              O   \n",
       "236        30839  834042.000000  1194.0000 -10.63   Blue              O   \n",
       "237         8829  537493.000000  1423.0000 -10.73  White              A   \n",
       "238         9235  404940.000000  1112.0000 -11.23  White              A   \n",
       "239        37882  294903.000000  1783.0000  -7.80   Blue              O   \n",
       "\n",
       "            Type  \n",
       "0    Brown Dwarf  \n",
       "1    Brown Dwarf  \n",
       "2    Brown Dwarf  \n",
       "3    Brown Dwarf  \n",
       "4    Brown Dwarf  \n",
       "..           ...  \n",
       "235   Hypergiant  \n",
       "236   Hypergiant  \n",
       "237   Hypergiant  \n",
       "238   Hypergiant  \n",
       "239   Hypergiant  \n",
       "\n",
       "[240 rows x 7 columns]"
      ]
     },
     "execution_count": 99,
     "metadata": {},
     "output_type": "execute_result"
    }
   ],
   "source": [
    "df"
   ]
  },
  {
   "cell_type": "code",
   "execution_count": 100,
   "id": "a87b144c",
   "metadata": {},
   "outputs": [
    {
     "name": "stdout",
     "output_type": "stream",
     "text": [
      "<class 'pandas.core.frame.DataFrame'>\n",
      "RangeIndex: 240 entries, 0 to 239\n",
      "Data columns (total 7 columns):\n",
      " #   Column          Non-Null Count  Dtype  \n",
      "---  ------          --------------  -----  \n",
      " 0   Temperature     240 non-null    int64  \n",
      " 1   L               240 non-null    float64\n",
      " 2   R               240 non-null    float64\n",
      " 3   A_M             240 non-null    float64\n",
      " 4   Color           240 non-null    object \n",
      " 5   Spectral_Class  240 non-null    object \n",
      " 6   Type            240 non-null    object \n",
      "dtypes: float64(3), int64(1), object(3)\n",
      "memory usage: 13.2+ KB\n"
     ]
    }
   ],
   "source": [
    "df.info()"
   ]
  },
  {
   "cell_type": "code",
   "execution_count": 101,
   "id": "855f5a61",
   "metadata": {},
   "outputs": [
    {
     "data": {
      "text/plain": [
       "count       240.000000\n",
       "mean     107188.361635\n",
       "std      179432.244940\n",
       "min           0.000080\n",
       "25%           0.000865\n",
       "50%           0.070500\n",
       "75%      198050.000000\n",
       "max      849420.000000\n",
       "Name: L, dtype: float64"
      ]
     },
     "execution_count": 101,
     "metadata": {},
     "output_type": "execute_result"
    }
   ],
   "source": [
    "df[\"L\"].describe()"
   ]
  },
  {
   "cell_type": "code",
   "execution_count": 102,
   "id": "44eadc88",
   "metadata": {},
   "outputs": [
    {
     "data": {
      "text/plain": [
       "count      240.000000\n",
       "mean     10497.462500\n",
       "std       9552.425037\n",
       "min       1939.000000\n",
       "25%       3344.250000\n",
       "50%       5776.000000\n",
       "75%      15055.500000\n",
       "max      40000.000000\n",
       "Name: Temperature, dtype: float64"
      ]
     },
     "execution_count": 102,
     "metadata": {},
     "output_type": "execute_result"
    }
   ],
   "source": [
    "df[\"Temperature\"].describe()"
   ]
  },
  {
   "cell_type": "code",
   "execution_count": 103,
   "id": "4afd40f8",
   "metadata": {},
   "outputs": [
    {
     "data": {
      "text/plain": [
       "count    240.000000\n",
       "mean       4.382396\n",
       "std       10.532512\n",
       "min      -11.920000\n",
       "25%       -6.232500\n",
       "50%        8.313000\n",
       "75%       13.697500\n",
       "max       20.060000\n",
       "Name: A_M, dtype: float64"
      ]
     },
     "execution_count": 103,
     "metadata": {},
     "output_type": "execute_result"
    }
   ],
   "source": [
    "df[\"A_M\"].describe()"
   ]
  },
  {
   "cell_type": "markdown",
   "id": "66abd140",
   "metadata": {},
   "source": [
    "## preprocessing"
   ]
  },
  {
   "cell_type": "markdown",
   "id": "07dfbf6c",
   "metadata": {},
   "source": [
    "Feature transformation"
   ]
  },
  {
   "cell_type": "markdown",
   "id": "d680b655",
   "metadata": {},
   "source": [
    "based on the description of the features \n",
    "Temperature / L /  R / A_M   \n",
    "\n",
    "## re encode Big and small values\n"
   ]
  },
  {
   "cell_type": "markdown",
   "id": "c251cf15",
   "metadata": {},
   "source": [
    " "
   ]
  },
  {
   "cell_type": "markdown",
   "id": "e2711a7c",
   "metadata": {},
   "source": [
    "Temperature"
   ]
  },
  {
   "cell_type": "code",
   "execution_count": 104,
   "id": "96c8f293",
   "metadata": {},
   "outputs": [],
   "source": [
    "cut1 = [0,5000,10000,15000,20000,25000,30000,35000,40001]\n",
    "Age_Categories1 = [1,2,3,4,5,6,7,8]"
   ]
  },
  {
   "cell_type": "code",
   "execution_count": 105,
   "id": "7ec99d97",
   "metadata": {},
   "outputs": [],
   "source": [
    "df['temb_binned'] = pd.cut(df['Temperature'],bins=cut1, labels= Age_Categories1)"
   ]
  },
  {
   "cell_type": "code",
   "execution_count": 106,
   "id": "7c244c49",
   "metadata": {},
   "outputs": [
    {
     "data": {
      "text/plain": [
       "0    1\n",
       "1    1\n",
       "2    1\n",
       "3    1\n",
       "4    1\n",
       "Name: temb_binned, dtype: category\n",
       "Categories (8, int64): [1 < 2 < 3 < 4 < 5 < 6 < 7 < 8]"
      ]
     },
     "execution_count": 106,
     "metadata": {},
     "output_type": "execute_result"
    }
   ],
   "source": [
    "df['temb_binned'].head()"
   ]
  },
  {
   "cell_type": "markdown",
   "id": "d93112c7",
   "metadata": {},
   "source": [
    " "
   ]
  },
  {
   "cell_type": "markdown",
   "id": "e584517b",
   "metadata": {},
   "source": [
    "L "
   ]
  },
  {
   "cell_type": "code",
   "execution_count": 107,
   "id": "06b2cfcf",
   "metadata": {},
   "outputs": [],
   "source": [
    "cut2 = [0,1,1000,15000,20000,25000,30000,35000,40000,45000,100000,300000,500000,800001,900000]\n",
    "Age_Categories2 = [1,2,3,4,5,6,7,8,9,10,11,12,13,14]"
   ]
  },
  {
   "cell_type": "code",
   "execution_count": 108,
   "id": "eeac9aeb",
   "metadata": {},
   "outputs": [],
   "source": [
    "df['L_binned'] = pd.cut(df['L'],bins=cut2, labels= Age_Categories2)"
   ]
  },
  {
   "cell_type": "code",
   "execution_count": 109,
   "id": "602ad081",
   "metadata": {},
   "outputs": [
    {
     "data": {
      "text/plain": [
       "0       1\n",
       "1       1\n",
       "2       1\n",
       "3       1\n",
       "4       1\n",
       "       ..\n",
       "235    12\n",
       "236    14\n",
       "237    13\n",
       "238    12\n",
       "239    11\n",
       "Name: L_binned, Length: 240, dtype: category\n",
       "Categories (14, int64): [1 < 2 < 3 < 4 ... 11 < 12 < 13 < 14]"
      ]
     },
     "execution_count": 109,
     "metadata": {},
     "output_type": "execute_result"
    }
   ],
   "source": [
    "df['L_binned']"
   ]
  },
  {
   "cell_type": "markdown",
   "id": "455ceef8",
   "metadata": {},
   "source": [
    " "
   ]
  },
  {
   "cell_type": "markdown",
   "id": "0e2ec42f",
   "metadata": {},
   "source": [
    "R"
   ]
  },
  {
   "cell_type": "code",
   "execution_count": 110,
   "id": "ba60b720",
   "metadata": {},
   "outputs": [],
   "source": [
    "cut3 = [0,1,10,50,100,500,800,1200,1500,2000]\n",
    "Age_Categories3 = [1,2,3,4,5,6,7,8,9]"
   ]
  },
  {
   "cell_type": "code",
   "execution_count": 111,
   "id": "6f4e4b07",
   "metadata": {},
   "outputs": [],
   "source": [
    "df['R_binned'] = pd.cut(df['R'],bins=cut3, labels= Age_Categories3)"
   ]
  },
  {
   "cell_type": "code",
   "execution_count": 112,
   "id": "238e2e93",
   "metadata": {},
   "outputs": [
    {
     "data": {
      "text/plain": [
       "0      1\n",
       "1      1\n",
       "2      1\n",
       "3      1\n",
       "4      1\n",
       "      ..\n",
       "235    8\n",
       "236    7\n",
       "237    8\n",
       "238    7\n",
       "239    9\n",
       "Name: R_binned, Length: 240, dtype: category\n",
       "Categories (9, int64): [1 < 2 < 3 < 4 ... 6 < 7 < 8 < 9]"
      ]
     },
     "execution_count": 112,
     "metadata": {},
     "output_type": "execute_result"
    }
   ],
   "source": [
    "df['R_binned']"
   ]
  },
  {
   "cell_type": "markdown",
   "id": "3da56c5a",
   "metadata": {},
   "source": [
    " "
   ]
  },
  {
   "cell_type": "markdown",
   "id": "09f93ca0",
   "metadata": {},
   "source": [
    "A_M"
   ]
  },
  {
   "cell_type": "code",
   "execution_count": 113,
   "id": "f4d7edda",
   "metadata": {},
   "outputs": [],
   "source": [
    "cut4 = [-12,-8,-5,-2,0,1,4,8,12,14,17,21]\n",
    "Age_Categories4 = [1,2,3,4,5,6,7,8,9,10,11]"
   ]
  },
  {
   "cell_type": "code",
   "execution_count": 114,
   "id": "b7d60ab3",
   "metadata": {},
   "outputs": [],
   "source": [
    "df['A_M_binned'] = pd.cut(df['A_M'],bins=cut4, labels= Age_Categories4)"
   ]
  },
  {
   "cell_type": "code",
   "execution_count": 115,
   "id": "5a6eea81",
   "metadata": {},
   "outputs": [
    {
     "data": {
      "text/plain": [
       "0      10\n",
       "1      10\n",
       "2      11\n",
       "3      10\n",
       "4      11\n",
       "       ..\n",
       "235     1\n",
       "236     1\n",
       "237     1\n",
       "238     1\n",
       "239     2\n",
       "Name: A_M_binned, Length: 240, dtype: category\n",
       "Categories (11, int64): [1 < 2 < 3 < 4 ... 8 < 9 < 10 < 11]"
      ]
     },
     "execution_count": 115,
     "metadata": {},
     "output_type": "execute_result"
    }
   ],
   "source": [
    "df['A_M_binned']"
   ]
  },
  {
   "cell_type": "markdown",
   "id": "0937cf8b",
   "metadata": {},
   "source": [
    " "
   ]
  },
  {
   "cell_type": "code",
   "execution_count": 116,
   "id": "bcfda356",
   "metadata": {},
   "outputs": [],
   "source": [
    "df.drop(['Temperature','L','R','A_M'], axis =1 , inplace = True)"
   ]
  },
  {
   "cell_type": "code",
   "execution_count": 117,
   "id": "9a986fbb",
   "metadata": {},
   "outputs": [
    {
     "data": {
      "text/html": [
       "<div>\n",
       "<style scoped>\n",
       "    .dataframe tbody tr th:only-of-type {\n",
       "        vertical-align: middle;\n",
       "    }\n",
       "\n",
       "    .dataframe tbody tr th {\n",
       "        vertical-align: top;\n",
       "    }\n",
       "\n",
       "    .dataframe thead th {\n",
       "        text-align: right;\n",
       "    }\n",
       "</style>\n",
       "<table border=\"1\" class=\"dataframe\">\n",
       "  <thead>\n",
       "    <tr style=\"text-align: right;\">\n",
       "      <th></th>\n",
       "      <th>Color</th>\n",
       "      <th>Spectral_Class</th>\n",
       "      <th>Type</th>\n",
       "      <th>temb_binned</th>\n",
       "      <th>L_binned</th>\n",
       "      <th>R_binned</th>\n",
       "      <th>A_M_binned</th>\n",
       "    </tr>\n",
       "  </thead>\n",
       "  <tbody>\n",
       "    <tr>\n",
       "      <th>0</th>\n",
       "      <td>Red</td>\n",
       "      <td>M</td>\n",
       "      <td>Brown Dwarf</td>\n",
       "      <td>1</td>\n",
       "      <td>1</td>\n",
       "      <td>1</td>\n",
       "      <td>10</td>\n",
       "    </tr>\n",
       "    <tr>\n",
       "      <th>1</th>\n",
       "      <td>Red</td>\n",
       "      <td>M</td>\n",
       "      <td>Brown Dwarf</td>\n",
       "      <td>1</td>\n",
       "      <td>1</td>\n",
       "      <td>1</td>\n",
       "      <td>10</td>\n",
       "    </tr>\n",
       "    <tr>\n",
       "      <th>2</th>\n",
       "      <td>Red</td>\n",
       "      <td>M</td>\n",
       "      <td>Brown Dwarf</td>\n",
       "      <td>1</td>\n",
       "      <td>1</td>\n",
       "      <td>1</td>\n",
       "      <td>11</td>\n",
       "    </tr>\n",
       "    <tr>\n",
       "      <th>3</th>\n",
       "      <td>Red</td>\n",
       "      <td>M</td>\n",
       "      <td>Brown Dwarf</td>\n",
       "      <td>1</td>\n",
       "      <td>1</td>\n",
       "      <td>1</td>\n",
       "      <td>10</td>\n",
       "    </tr>\n",
       "    <tr>\n",
       "      <th>4</th>\n",
       "      <td>Red</td>\n",
       "      <td>M</td>\n",
       "      <td>Brown Dwarf</td>\n",
       "      <td>1</td>\n",
       "      <td>1</td>\n",
       "      <td>1</td>\n",
       "      <td>11</td>\n",
       "    </tr>\n",
       "    <tr>\n",
       "      <th>...</th>\n",
       "      <td>...</td>\n",
       "      <td>...</td>\n",
       "      <td>...</td>\n",
       "      <td>...</td>\n",
       "      <td>...</td>\n",
       "      <td>...</td>\n",
       "      <td>...</td>\n",
       "    </tr>\n",
       "    <tr>\n",
       "      <th>235</th>\n",
       "      <td>Blue</td>\n",
       "      <td>O</td>\n",
       "      <td>Hypergiant</td>\n",
       "      <td>8</td>\n",
       "      <td>12</td>\n",
       "      <td>8</td>\n",
       "      <td>1</td>\n",
       "    </tr>\n",
       "    <tr>\n",
       "      <th>236</th>\n",
       "      <td>Blue</td>\n",
       "      <td>O</td>\n",
       "      <td>Hypergiant</td>\n",
       "      <td>7</td>\n",
       "      <td>14</td>\n",
       "      <td>7</td>\n",
       "      <td>1</td>\n",
       "    </tr>\n",
       "    <tr>\n",
       "      <th>237</th>\n",
       "      <td>White</td>\n",
       "      <td>A</td>\n",
       "      <td>Hypergiant</td>\n",
       "      <td>2</td>\n",
       "      <td>13</td>\n",
       "      <td>8</td>\n",
       "      <td>1</td>\n",
       "    </tr>\n",
       "    <tr>\n",
       "      <th>238</th>\n",
       "      <td>White</td>\n",
       "      <td>A</td>\n",
       "      <td>Hypergiant</td>\n",
       "      <td>2</td>\n",
       "      <td>12</td>\n",
       "      <td>7</td>\n",
       "      <td>1</td>\n",
       "    </tr>\n",
       "    <tr>\n",
       "      <th>239</th>\n",
       "      <td>Blue</td>\n",
       "      <td>O</td>\n",
       "      <td>Hypergiant</td>\n",
       "      <td>8</td>\n",
       "      <td>11</td>\n",
       "      <td>9</td>\n",
       "      <td>2</td>\n",
       "    </tr>\n",
       "  </tbody>\n",
       "</table>\n",
       "<p>240 rows × 7 columns</p>\n",
       "</div>"
      ],
      "text/plain": [
       "     Color Spectral_Class         Type temb_binned L_binned R_binned  \\\n",
       "0      Red              M  Brown Dwarf           1        1        1   \n",
       "1      Red              M  Brown Dwarf           1        1        1   \n",
       "2      Red              M  Brown Dwarf           1        1        1   \n",
       "3      Red              M  Brown Dwarf           1        1        1   \n",
       "4      Red              M  Brown Dwarf           1        1        1   \n",
       "..     ...            ...          ...         ...      ...      ...   \n",
       "235   Blue              O   Hypergiant           8       12        8   \n",
       "236   Blue              O   Hypergiant           7       14        7   \n",
       "237  White              A   Hypergiant           2       13        8   \n",
       "238  White              A   Hypergiant           2       12        7   \n",
       "239   Blue              O   Hypergiant           8       11        9   \n",
       "\n",
       "    A_M_binned  \n",
       "0           10  \n",
       "1           10  \n",
       "2           11  \n",
       "3           10  \n",
       "4           11  \n",
       "..         ...  \n",
       "235          1  \n",
       "236          1  \n",
       "237          1  \n",
       "238          1  \n",
       "239          2  \n",
       "\n",
       "[240 rows x 7 columns]"
      ]
     },
     "execution_count": 117,
     "metadata": {},
     "output_type": "execute_result"
    }
   ],
   "source": [
    "df"
   ]
  },
  {
   "cell_type": "markdown",
   "id": "4100de48",
   "metadata": {},
   "source": [
    " "
   ]
  },
  {
   "cell_type": "markdown",
   "id": "c4e8ea2b",
   "metadata": {},
   "source": [
    "Encode categorical Features\n",
    "\n",
    "Color , Spectral_Class\n"
   ]
  },
  {
   "cell_type": "code",
   "execution_count": 119,
   "id": "d0affe3a",
   "metadata": {},
   "outputs": [],
   "source": [
    "from sklearn.preprocessing import OneHotEncoder"
   ]
  },
  {
   "cell_type": "code",
   "execution_count": 120,
   "id": "bcde8188",
   "metadata": {},
   "outputs": [],
   "source": [
    "Encoder = OneHotEncoder(sparse= False ,drop= 'first')"
   ]
  },
  {
   "cell_type": "code",
   "execution_count": 121,
   "id": "18e81ef2",
   "metadata": {},
   "outputs": [],
   "source": [
    "cat= df.select_dtypes(include='object')"
   ]
  },
  {
   "cell_type": "code",
   "execution_count": 122,
   "id": "4a886ffb",
   "metadata": {},
   "outputs": [],
   "source": [
    "cat_trans = Encoder.fit_transform(df[['Color','Spectral_Class']])"
   ]
  },
  {
   "cell_type": "code",
   "execution_count": 123,
   "id": "e76c209e",
   "metadata": {},
   "outputs": [],
   "source": [
    "encoding = pd.DataFrame(cat_trans,columns=Encoder.get_feature_names_out())"
   ]
  },
  {
   "cell_type": "code",
   "execution_count": 124,
   "id": "2d9fb816",
   "metadata": {},
   "outputs": [],
   "source": [
    "df = pd.concat([df,encoding],axis = 1)"
   ]
  },
  {
   "cell_type": "code",
   "execution_count": 125,
   "id": "ed82b334",
   "metadata": {},
   "outputs": [
    {
     "data": {
      "text/html": [
       "<div>\n",
       "<style scoped>\n",
       "    .dataframe tbody tr th:only-of-type {\n",
       "        vertical-align: middle;\n",
       "    }\n",
       "\n",
       "    .dataframe tbody tr th {\n",
       "        vertical-align: top;\n",
       "    }\n",
       "\n",
       "    .dataframe thead th {\n",
       "        text-align: right;\n",
       "    }\n",
       "</style>\n",
       "<table border=\"1\" class=\"dataframe\">\n",
       "  <thead>\n",
       "    <tr style=\"text-align: right;\">\n",
       "      <th></th>\n",
       "      <th>Color</th>\n",
       "      <th>Spectral_Class</th>\n",
       "      <th>Type</th>\n",
       "      <th>temb_binned</th>\n",
       "      <th>L_binned</th>\n",
       "      <th>R_binned</th>\n",
       "      <th>A_M_binned</th>\n",
       "      <th>Color_Blue White</th>\n",
       "      <th>Color_Blue white</th>\n",
       "      <th>Color_Blue-White</th>\n",
       "      <th>...</th>\n",
       "      <th>Color_Yellowish White</th>\n",
       "      <th>Color_white</th>\n",
       "      <th>Color_yellow-white</th>\n",
       "      <th>Color_yellowish</th>\n",
       "      <th>Spectral_Class_B</th>\n",
       "      <th>Spectral_Class_F</th>\n",
       "      <th>Spectral_Class_G</th>\n",
       "      <th>Spectral_Class_K</th>\n",
       "      <th>Spectral_Class_M</th>\n",
       "      <th>Spectral_Class_O</th>\n",
       "    </tr>\n",
       "  </thead>\n",
       "  <tbody>\n",
       "    <tr>\n",
       "      <th>0</th>\n",
       "      <td>Red</td>\n",
       "      <td>M</td>\n",
       "      <td>Brown Dwarf</td>\n",
       "      <td>1</td>\n",
       "      <td>1</td>\n",
       "      <td>1</td>\n",
       "      <td>10</td>\n",
       "      <td>0.0</td>\n",
       "      <td>0.0</td>\n",
       "      <td>0.0</td>\n",
       "      <td>...</td>\n",
       "      <td>0.0</td>\n",
       "      <td>0.0</td>\n",
       "      <td>0.0</td>\n",
       "      <td>0.0</td>\n",
       "      <td>0.0</td>\n",
       "      <td>0.0</td>\n",
       "      <td>0.0</td>\n",
       "      <td>0.0</td>\n",
       "      <td>1.0</td>\n",
       "      <td>0.0</td>\n",
       "    </tr>\n",
       "    <tr>\n",
       "      <th>1</th>\n",
       "      <td>Red</td>\n",
       "      <td>M</td>\n",
       "      <td>Brown Dwarf</td>\n",
       "      <td>1</td>\n",
       "      <td>1</td>\n",
       "      <td>1</td>\n",
       "      <td>10</td>\n",
       "      <td>0.0</td>\n",
       "      <td>0.0</td>\n",
       "      <td>0.0</td>\n",
       "      <td>...</td>\n",
       "      <td>0.0</td>\n",
       "      <td>0.0</td>\n",
       "      <td>0.0</td>\n",
       "      <td>0.0</td>\n",
       "      <td>0.0</td>\n",
       "      <td>0.0</td>\n",
       "      <td>0.0</td>\n",
       "      <td>0.0</td>\n",
       "      <td>1.0</td>\n",
       "      <td>0.0</td>\n",
       "    </tr>\n",
       "    <tr>\n",
       "      <th>2</th>\n",
       "      <td>Red</td>\n",
       "      <td>M</td>\n",
       "      <td>Brown Dwarf</td>\n",
       "      <td>1</td>\n",
       "      <td>1</td>\n",
       "      <td>1</td>\n",
       "      <td>11</td>\n",
       "      <td>0.0</td>\n",
       "      <td>0.0</td>\n",
       "      <td>0.0</td>\n",
       "      <td>...</td>\n",
       "      <td>0.0</td>\n",
       "      <td>0.0</td>\n",
       "      <td>0.0</td>\n",
       "      <td>0.0</td>\n",
       "      <td>0.0</td>\n",
       "      <td>0.0</td>\n",
       "      <td>0.0</td>\n",
       "      <td>0.0</td>\n",
       "      <td>1.0</td>\n",
       "      <td>0.0</td>\n",
       "    </tr>\n",
       "    <tr>\n",
       "      <th>3</th>\n",
       "      <td>Red</td>\n",
       "      <td>M</td>\n",
       "      <td>Brown Dwarf</td>\n",
       "      <td>1</td>\n",
       "      <td>1</td>\n",
       "      <td>1</td>\n",
       "      <td>10</td>\n",
       "      <td>0.0</td>\n",
       "      <td>0.0</td>\n",
       "      <td>0.0</td>\n",
       "      <td>...</td>\n",
       "      <td>0.0</td>\n",
       "      <td>0.0</td>\n",
       "      <td>0.0</td>\n",
       "      <td>0.0</td>\n",
       "      <td>0.0</td>\n",
       "      <td>0.0</td>\n",
       "      <td>0.0</td>\n",
       "      <td>0.0</td>\n",
       "      <td>1.0</td>\n",
       "      <td>0.0</td>\n",
       "    </tr>\n",
       "    <tr>\n",
       "      <th>4</th>\n",
       "      <td>Red</td>\n",
       "      <td>M</td>\n",
       "      <td>Brown Dwarf</td>\n",
       "      <td>1</td>\n",
       "      <td>1</td>\n",
       "      <td>1</td>\n",
       "      <td>11</td>\n",
       "      <td>0.0</td>\n",
       "      <td>0.0</td>\n",
       "      <td>0.0</td>\n",
       "      <td>...</td>\n",
       "      <td>0.0</td>\n",
       "      <td>0.0</td>\n",
       "      <td>0.0</td>\n",
       "      <td>0.0</td>\n",
       "      <td>0.0</td>\n",
       "      <td>0.0</td>\n",
       "      <td>0.0</td>\n",
       "      <td>0.0</td>\n",
       "      <td>1.0</td>\n",
       "      <td>0.0</td>\n",
       "    </tr>\n",
       "    <tr>\n",
       "      <th>...</th>\n",
       "      <td>...</td>\n",
       "      <td>...</td>\n",
       "      <td>...</td>\n",
       "      <td>...</td>\n",
       "      <td>...</td>\n",
       "      <td>...</td>\n",
       "      <td>...</td>\n",
       "      <td>...</td>\n",
       "      <td>...</td>\n",
       "      <td>...</td>\n",
       "      <td>...</td>\n",
       "      <td>...</td>\n",
       "      <td>...</td>\n",
       "      <td>...</td>\n",
       "      <td>...</td>\n",
       "      <td>...</td>\n",
       "      <td>...</td>\n",
       "      <td>...</td>\n",
       "      <td>...</td>\n",
       "      <td>...</td>\n",
       "      <td>...</td>\n",
       "    </tr>\n",
       "    <tr>\n",
       "      <th>235</th>\n",
       "      <td>Blue</td>\n",
       "      <td>O</td>\n",
       "      <td>Hypergiant</td>\n",
       "      <td>8</td>\n",
       "      <td>12</td>\n",
       "      <td>8</td>\n",
       "      <td>1</td>\n",
       "      <td>0.0</td>\n",
       "      <td>0.0</td>\n",
       "      <td>0.0</td>\n",
       "      <td>...</td>\n",
       "      <td>0.0</td>\n",
       "      <td>0.0</td>\n",
       "      <td>0.0</td>\n",
       "      <td>0.0</td>\n",
       "      <td>0.0</td>\n",
       "      <td>0.0</td>\n",
       "      <td>0.0</td>\n",
       "      <td>0.0</td>\n",
       "      <td>0.0</td>\n",
       "      <td>1.0</td>\n",
       "    </tr>\n",
       "    <tr>\n",
       "      <th>236</th>\n",
       "      <td>Blue</td>\n",
       "      <td>O</td>\n",
       "      <td>Hypergiant</td>\n",
       "      <td>7</td>\n",
       "      <td>14</td>\n",
       "      <td>7</td>\n",
       "      <td>1</td>\n",
       "      <td>0.0</td>\n",
       "      <td>0.0</td>\n",
       "      <td>0.0</td>\n",
       "      <td>...</td>\n",
       "      <td>0.0</td>\n",
       "      <td>0.0</td>\n",
       "      <td>0.0</td>\n",
       "      <td>0.0</td>\n",
       "      <td>0.0</td>\n",
       "      <td>0.0</td>\n",
       "      <td>0.0</td>\n",
       "      <td>0.0</td>\n",
       "      <td>0.0</td>\n",
       "      <td>1.0</td>\n",
       "    </tr>\n",
       "    <tr>\n",
       "      <th>237</th>\n",
       "      <td>White</td>\n",
       "      <td>A</td>\n",
       "      <td>Hypergiant</td>\n",
       "      <td>2</td>\n",
       "      <td>13</td>\n",
       "      <td>8</td>\n",
       "      <td>1</td>\n",
       "      <td>0.0</td>\n",
       "      <td>0.0</td>\n",
       "      <td>0.0</td>\n",
       "      <td>...</td>\n",
       "      <td>0.0</td>\n",
       "      <td>0.0</td>\n",
       "      <td>0.0</td>\n",
       "      <td>0.0</td>\n",
       "      <td>0.0</td>\n",
       "      <td>0.0</td>\n",
       "      <td>0.0</td>\n",
       "      <td>0.0</td>\n",
       "      <td>0.0</td>\n",
       "      <td>0.0</td>\n",
       "    </tr>\n",
       "    <tr>\n",
       "      <th>238</th>\n",
       "      <td>White</td>\n",
       "      <td>A</td>\n",
       "      <td>Hypergiant</td>\n",
       "      <td>2</td>\n",
       "      <td>12</td>\n",
       "      <td>7</td>\n",
       "      <td>1</td>\n",
       "      <td>0.0</td>\n",
       "      <td>0.0</td>\n",
       "      <td>0.0</td>\n",
       "      <td>...</td>\n",
       "      <td>0.0</td>\n",
       "      <td>0.0</td>\n",
       "      <td>0.0</td>\n",
       "      <td>0.0</td>\n",
       "      <td>0.0</td>\n",
       "      <td>0.0</td>\n",
       "      <td>0.0</td>\n",
       "      <td>0.0</td>\n",
       "      <td>0.0</td>\n",
       "      <td>0.0</td>\n",
       "    </tr>\n",
       "    <tr>\n",
       "      <th>239</th>\n",
       "      <td>Blue</td>\n",
       "      <td>O</td>\n",
       "      <td>Hypergiant</td>\n",
       "      <td>8</td>\n",
       "      <td>11</td>\n",
       "      <td>9</td>\n",
       "      <td>2</td>\n",
       "      <td>0.0</td>\n",
       "      <td>0.0</td>\n",
       "      <td>0.0</td>\n",
       "      <td>...</td>\n",
       "      <td>0.0</td>\n",
       "      <td>0.0</td>\n",
       "      <td>0.0</td>\n",
       "      <td>0.0</td>\n",
       "      <td>0.0</td>\n",
       "      <td>0.0</td>\n",
       "      <td>0.0</td>\n",
       "      <td>0.0</td>\n",
       "      <td>0.0</td>\n",
       "      <td>1.0</td>\n",
       "    </tr>\n",
       "  </tbody>\n",
       "</table>\n",
       "<p>240 rows × 29 columns</p>\n",
       "</div>"
      ],
      "text/plain": [
       "     Color Spectral_Class         Type temb_binned L_binned R_binned  \\\n",
       "0      Red              M  Brown Dwarf           1        1        1   \n",
       "1      Red              M  Brown Dwarf           1        1        1   \n",
       "2      Red              M  Brown Dwarf           1        1        1   \n",
       "3      Red              M  Brown Dwarf           1        1        1   \n",
       "4      Red              M  Brown Dwarf           1        1        1   \n",
       "..     ...            ...          ...         ...      ...      ...   \n",
       "235   Blue              O   Hypergiant           8       12        8   \n",
       "236   Blue              O   Hypergiant           7       14        7   \n",
       "237  White              A   Hypergiant           2       13        8   \n",
       "238  White              A   Hypergiant           2       12        7   \n",
       "239   Blue              O   Hypergiant           8       11        9   \n",
       "\n",
       "    A_M_binned  Color_Blue White  Color_Blue white  Color_Blue-White  ...  \\\n",
       "0           10               0.0               0.0               0.0  ...   \n",
       "1           10               0.0               0.0               0.0  ...   \n",
       "2           11               0.0               0.0               0.0  ...   \n",
       "3           10               0.0               0.0               0.0  ...   \n",
       "4           11               0.0               0.0               0.0  ...   \n",
       "..         ...               ...               ...               ...  ...   \n",
       "235          1               0.0               0.0               0.0  ...   \n",
       "236          1               0.0               0.0               0.0  ...   \n",
       "237          1               0.0               0.0               0.0  ...   \n",
       "238          1               0.0               0.0               0.0  ...   \n",
       "239          2               0.0               0.0               0.0  ...   \n",
       "\n",
       "     Color_Yellowish White  Color_white  Color_yellow-white  Color_yellowish  \\\n",
       "0                      0.0          0.0                 0.0              0.0   \n",
       "1                      0.0          0.0                 0.0              0.0   \n",
       "2                      0.0          0.0                 0.0              0.0   \n",
       "3                      0.0          0.0                 0.0              0.0   \n",
       "4                      0.0          0.0                 0.0              0.0   \n",
       "..                     ...          ...                 ...              ...   \n",
       "235                    0.0          0.0                 0.0              0.0   \n",
       "236                    0.0          0.0                 0.0              0.0   \n",
       "237                    0.0          0.0                 0.0              0.0   \n",
       "238                    0.0          0.0                 0.0              0.0   \n",
       "239                    0.0          0.0                 0.0              0.0   \n",
       "\n",
       "     Spectral_Class_B  Spectral_Class_F  Spectral_Class_G  Spectral_Class_K  \\\n",
       "0                 0.0               0.0               0.0               0.0   \n",
       "1                 0.0               0.0               0.0               0.0   \n",
       "2                 0.0               0.0               0.0               0.0   \n",
       "3                 0.0               0.0               0.0               0.0   \n",
       "4                 0.0               0.0               0.0               0.0   \n",
       "..                ...               ...               ...               ...   \n",
       "235               0.0               0.0               0.0               0.0   \n",
       "236               0.0               0.0               0.0               0.0   \n",
       "237               0.0               0.0               0.0               0.0   \n",
       "238               0.0               0.0               0.0               0.0   \n",
       "239               0.0               0.0               0.0               0.0   \n",
       "\n",
       "     Spectral_Class_M  Spectral_Class_O  \n",
       "0                 1.0               0.0  \n",
       "1                 1.0               0.0  \n",
       "2                 1.0               0.0  \n",
       "3                 1.0               0.0  \n",
       "4                 1.0               0.0  \n",
       "..                ...               ...  \n",
       "235               0.0               1.0  \n",
       "236               0.0               1.0  \n",
       "237               0.0               0.0  \n",
       "238               0.0               0.0  \n",
       "239               0.0               1.0  \n",
       "\n",
       "[240 rows x 29 columns]"
      ]
     },
     "execution_count": 125,
     "metadata": {},
     "output_type": "execute_result"
    }
   ],
   "source": [
    "df"
   ]
  },
  {
   "cell_type": "markdown",
   "id": "e0593b22",
   "metadata": {},
   "source": [
    " "
   ]
  },
  {
   "cell_type": "markdown",
   "id": "715e0d64",
   "metadata": {},
   "source": [
    "## _____________________________________________________________"
   ]
  },
  {
   "cell_type": "markdown",
   "id": "1963e26e",
   "metadata": {},
   "source": [
    "Encode the target"
   ]
  },
  {
   "cell_type": "code",
   "execution_count": 145,
   "id": "84865166",
   "metadata": {},
   "outputs": [],
   "source": [
    "from sklearn.preprocessing import LabelEncoder"
   ]
  },
  {
   "cell_type": "code",
   "execution_count": 146,
   "id": "4031664c",
   "metadata": {},
   "outputs": [],
   "source": [
    "label = LabelEncoder()"
   ]
  },
  {
   "cell_type": "code",
   "execution_count": 147,
   "id": "85d4f506",
   "metadata": {},
   "outputs": [],
   "source": [
    "target = label.fit_transform(df['Type'])"
   ]
  },
  {
   "cell_type": "code",
   "execution_count": 148,
   "id": "7f263467",
   "metadata": {},
   "outputs": [],
   "source": [
    "df['Type'] = label.fit_transform(df['Type'])"
   ]
  },
  {
   "cell_type": "code",
   "execution_count": 149,
   "id": "1ee9680b",
   "metadata": {},
   "outputs": [
    {
     "data": {
      "text/plain": [
       "0      0\n",
       "1      0\n",
       "2      0\n",
       "3      0\n",
       "4      0\n",
       "      ..\n",
       "235    1\n",
       "236    1\n",
       "237    1\n",
       "238    1\n",
       "239    1\n",
       "Name: Type, Length: 240, dtype: int64"
      ]
     },
     "execution_count": 149,
     "metadata": {},
     "output_type": "execute_result"
    }
   ],
   "source": [
    "df['Type']"
   ]
  },
  {
   "cell_type": "markdown",
   "id": "7db086e6",
   "metadata": {},
   "source": [
    " "
   ]
  },
  {
   "cell_type": "code",
   "execution_count": 130,
   "id": "12277244",
   "metadata": {},
   "outputs": [],
   "source": [
    "df.drop(['Color','Spectral_Class'], axis =1 , inplace = True)"
   ]
  },
  {
   "cell_type": "markdown",
   "id": "737239aa",
   "metadata": {},
   "source": [
    "## _________________________________________________________________________________________________"
   ]
  },
  {
   "cell_type": "code",
   "execution_count": 151,
   "id": "5401a83b",
   "metadata": {},
   "outputs": [],
   "source": [
    "x = df.drop('Type',axis = 1)\n",
    "y = df['Type']"
   ]
  },
  {
   "cell_type": "code",
   "execution_count": 152,
   "id": "ade08197",
   "metadata": {},
   "outputs": [],
   "source": [
    "from sklearn.model_selection import train_test_split"
   ]
  },
  {
   "cell_type": "code",
   "execution_count": 153,
   "id": "185ea466",
   "metadata": {},
   "outputs": [],
   "source": [
    "x_train,x_test,y_train,y_test = train_test_split(x,y,random_state= 27 , test_size= .2,stratify=y )"
   ]
  },
  {
   "cell_type": "markdown",
   "id": "8ef733df",
   "metadata": {},
   "source": [
    "## _________________________________________________"
   ]
  },
  {
   "cell_type": "markdown",
   "id": "e4d01501",
   "metadata": {},
   "source": [
    "## scaling"
   ]
  },
  {
   "cell_type": "code",
   "execution_count": 154,
   "id": "21118356",
   "metadata": {},
   "outputs": [],
   "source": [
    "from sklearn.preprocessing import StandardScaler "
   ]
  },
  {
   "cell_type": "code",
   "execution_count": 155,
   "id": "67ac89d3",
   "metadata": {},
   "outputs": [],
   "source": [
    "Scaler = StandardScaler()\n",
    "col = ['temb_binned','L_binned','R_binned','A_M_binned']"
   ]
  },
  {
   "cell_type": "code",
   "execution_count": 156,
   "id": "7fdc079b",
   "metadata": {},
   "outputs": [],
   "source": [
    "x_train[col]=Scaler.fit_transform(x_train[col])\n",
    "x_test[col]=Scaler.transform(x_test[col])"
   ]
  },
  {
   "cell_type": "markdown",
   "id": "50015bbf",
   "metadata": {},
   "source": [
    "## _________________________________________________"
   ]
  },
  {
   "cell_type": "markdown",
   "id": "d6d60f96",
   "metadata": {},
   "source": [
    "## ________________________________________________________________________________________"
   ]
  },
  {
   "cell_type": "code",
   "execution_count": 157,
   "id": "298e309c",
   "metadata": {},
   "outputs": [],
   "source": [
    "from sklearn.linear_model import LogisticRegression"
   ]
  },
  {
   "cell_type": "code",
   "execution_count": 158,
   "id": "127cd9d6",
   "metadata": {},
   "outputs": [],
   "source": [
    "logistic = LogisticRegression(penalty='l2' ,solver = \"liblinear\" , multi_class=\"ovr\" , C=1)"
   ]
  },
  {
   "cell_type": "code",
   "execution_count": 159,
   "id": "4f30832d",
   "metadata": {},
   "outputs": [
    {
     "data": {
      "text/html": [
       "<style>#sk-container-id-6 {color: black;background-color: white;}#sk-container-id-6 pre{padding: 0;}#sk-container-id-6 div.sk-toggleable {background-color: white;}#sk-container-id-6 label.sk-toggleable__label {cursor: pointer;display: block;width: 100%;margin-bottom: 0;padding: 0.3em;box-sizing: border-box;text-align: center;}#sk-container-id-6 label.sk-toggleable__label-arrow:before {content: \"▸\";float: left;margin-right: 0.25em;color: #696969;}#sk-container-id-6 label.sk-toggleable__label-arrow:hover:before {color: black;}#sk-container-id-6 div.sk-estimator:hover label.sk-toggleable__label-arrow:before {color: black;}#sk-container-id-6 div.sk-toggleable__content {max-height: 0;max-width: 0;overflow: hidden;text-align: left;background-color: #f0f8ff;}#sk-container-id-6 div.sk-toggleable__content pre {margin: 0.2em;color: black;border-radius: 0.25em;background-color: #f0f8ff;}#sk-container-id-6 input.sk-toggleable__control:checked~div.sk-toggleable__content {max-height: 200px;max-width: 100%;overflow: auto;}#sk-container-id-6 input.sk-toggleable__control:checked~label.sk-toggleable__label-arrow:before {content: \"▾\";}#sk-container-id-6 div.sk-estimator input.sk-toggleable__control:checked~label.sk-toggleable__label {background-color: #d4ebff;}#sk-container-id-6 div.sk-label input.sk-toggleable__control:checked~label.sk-toggleable__label {background-color: #d4ebff;}#sk-container-id-6 input.sk-hidden--visually {border: 0;clip: rect(1px 1px 1px 1px);clip: rect(1px, 1px, 1px, 1px);height: 1px;margin: -1px;overflow: hidden;padding: 0;position: absolute;width: 1px;}#sk-container-id-6 div.sk-estimator {font-family: monospace;background-color: #f0f8ff;border: 1px dotted black;border-radius: 0.25em;box-sizing: border-box;margin-bottom: 0.5em;}#sk-container-id-6 div.sk-estimator:hover {background-color: #d4ebff;}#sk-container-id-6 div.sk-parallel-item::after {content: \"\";width: 100%;border-bottom: 1px solid gray;flex-grow: 1;}#sk-container-id-6 div.sk-label:hover label.sk-toggleable__label {background-color: #d4ebff;}#sk-container-id-6 div.sk-serial::before {content: \"\";position: absolute;border-left: 1px solid gray;box-sizing: border-box;top: 0;bottom: 0;left: 50%;z-index: 0;}#sk-container-id-6 div.sk-serial {display: flex;flex-direction: column;align-items: center;background-color: white;padding-right: 0.2em;padding-left: 0.2em;position: relative;}#sk-container-id-6 div.sk-item {position: relative;z-index: 1;}#sk-container-id-6 div.sk-parallel {display: flex;align-items: stretch;justify-content: center;background-color: white;position: relative;}#sk-container-id-6 div.sk-item::before, #sk-container-id-6 div.sk-parallel-item::before {content: \"\";position: absolute;border-left: 1px solid gray;box-sizing: border-box;top: 0;bottom: 0;left: 50%;z-index: -1;}#sk-container-id-6 div.sk-parallel-item {display: flex;flex-direction: column;z-index: 1;position: relative;background-color: white;}#sk-container-id-6 div.sk-parallel-item:first-child::after {align-self: flex-end;width: 50%;}#sk-container-id-6 div.sk-parallel-item:last-child::after {align-self: flex-start;width: 50%;}#sk-container-id-6 div.sk-parallel-item:only-child::after {width: 0;}#sk-container-id-6 div.sk-dashed-wrapped {border: 1px dashed gray;margin: 0 0.4em 0.5em 0.4em;box-sizing: border-box;padding-bottom: 0.4em;background-color: white;}#sk-container-id-6 div.sk-label label {font-family: monospace;font-weight: bold;display: inline-block;line-height: 1.2em;}#sk-container-id-6 div.sk-label-container {text-align: center;}#sk-container-id-6 div.sk-container {/* jupyter's `normalize.less` sets `[hidden] { display: none; }` but bootstrap.min.css set `[hidden] { display: none !important; }` so we also need the `!important` here to be able to override the default hidden behavior on the sphinx rendered scikit-learn.org. See: https://github.com/scikit-learn/scikit-learn/issues/21755 */display: inline-block !important;position: relative;}#sk-container-id-6 div.sk-text-repr-fallback {display: none;}</style><div id=\"sk-container-id-6\" class=\"sk-top-container\"><div class=\"sk-text-repr-fallback\"><pre>LogisticRegression(C=1, multi_class=&#x27;ovr&#x27;, solver=&#x27;liblinear&#x27;)</pre><b>In a Jupyter environment, please rerun this cell to show the HTML representation or trust the notebook. <br />On GitHub, the HTML representation is unable to render, please try loading this page with nbviewer.org.</b></div><div class=\"sk-container\" hidden><div class=\"sk-item\"><div class=\"sk-estimator sk-toggleable\"><input class=\"sk-toggleable__control sk-hidden--visually\" id=\"sk-estimator-id-6\" type=\"checkbox\" checked><label for=\"sk-estimator-id-6\" class=\"sk-toggleable__label sk-toggleable__label-arrow\">LogisticRegression</label><div class=\"sk-toggleable__content\"><pre>LogisticRegression(C=1, multi_class=&#x27;ovr&#x27;, solver=&#x27;liblinear&#x27;)</pre></div></div></div></div></div>"
      ],
      "text/plain": [
       "LogisticRegression(C=1, multi_class='ovr', solver='liblinear')"
      ]
     },
     "execution_count": 159,
     "metadata": {},
     "output_type": "execute_result"
    }
   ],
   "source": [
    "logistic.fit(x_train,y_train)"
   ]
  },
  {
   "cell_type": "code",
   "execution_count": 160,
   "id": "4012be5e",
   "metadata": {},
   "outputs": [],
   "source": [
    "y_train_pred = logistic.predict(x_train)\n",
    "y_test_pred = logistic.predict(x_test)"
   ]
  },
  {
   "cell_type": "code",
   "execution_count": 161,
   "id": "5245ab74",
   "metadata": {},
   "outputs": [],
   "source": [
    "from sklearn.metrics import accuracy_score , confusion_matrix, ConfusionMatrixDisplay"
   ]
  },
  {
   "cell_type": "code",
   "execution_count": 162,
   "id": "47ed1f52",
   "metadata": {},
   "outputs": [
    {
     "data": {
      "text/plain": [
       "0.9583333333333334"
      ]
     },
     "execution_count": 162,
     "metadata": {},
     "output_type": "execute_result"
    }
   ],
   "source": [
    "accuracy_score(y_test,y_test_pred)"
   ]
  },
  {
   "cell_type": "code",
   "execution_count": 163,
   "id": "2d04578f",
   "metadata": {},
   "outputs": [
    {
     "data": {
      "text/plain": [
       "0.9427083333333334"
      ]
     },
     "execution_count": 163,
     "metadata": {},
     "output_type": "execute_result"
    }
   ],
   "source": [
    "accuracy_score(y_train,y_train_pred)"
   ]
  },
  {
   "cell_type": "code",
   "execution_count": 164,
   "id": "fc06fba7",
   "metadata": {},
   "outputs": [
    {
     "data": {
      "text/plain": [
       "array([[32,  0,  0,  0,  0,  0],\n",
       "       [ 0, 32,  0,  0,  0,  0],\n",
       "       [ 0,  0, 28,  0,  4,  0],\n",
       "       [ 7,  0,  0, 25,  0,  0],\n",
       "       [ 0,  0,  0,  0, 32,  0],\n",
       "       [ 0,  0,  0,  0,  0, 32]], dtype=int64)"
      ]
     },
     "execution_count": 164,
     "metadata": {},
     "output_type": "execute_result"
    }
   ],
   "source": [
    "confusion_matrix(y_train,y_train_pred)"
   ]
  },
  {
   "cell_type": "code",
   "execution_count": null,
   "id": "d2bd5056",
   "metadata": {},
   "outputs": [],
   "source": []
  },
  {
   "cell_type": "code",
   "execution_count": null,
   "id": "49c4a9c3",
   "metadata": {},
   "outputs": [],
   "source": []
  }
 ],
 "metadata": {
  "kernelspec": {
   "display_name": "Python 3",
   "language": "python",
   "name": "python3"
  },
  "language_info": {
   "codemirror_mode": {
    "name": "ipython",
    "version": 3
   },
   "file_extension": ".py",
   "mimetype": "text/x-python",
   "name": "python",
   "nbconvert_exporter": "python",
   "pygments_lexer": "ipython3",
   "version": "3.8.8"
  }
 },
 "nbformat": 4,
 "nbformat_minor": 5
}
